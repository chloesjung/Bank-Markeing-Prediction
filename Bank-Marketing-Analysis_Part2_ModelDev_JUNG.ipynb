{
 "cells": [
  {
   "cell_type": "markdown",
   "metadata": {},
   "source": [
    "#  \n",
    "## Part 2. Developing Machine Learning Model"
   ]
  },
  {
   "cell_type": "markdown",
   "metadata": {},
   "source": [
    "> Author: **Chloe Jung** <br>\n",
    "> Date Finished:"
   ]
  },
  {
   "cell_type": "markdown",
   "metadata": {},
   "source": [
    "## Table of Contents\n",
    "\n",
    "The data was obtained from [Kaggle](https://www.kaggle.com/lava18/google-play-store-apps).\n",
    "\n",
    "* [1. Import the Packages](#ImportPackages)\n",
    "* [2. Load the Data](#LoadData)\n",
    "* [3. Preprocessing](#Preprocessing)\n",
    "    * [3-1. Impute the Missing Values](#Impute)\n",
    "    * [3-2. Integer Encoding](#IntegerEncoding)\n",
    "    * [3-3. Dummy Variable](#DummyVariable)\n",
    "* [4. Set Up Evaluation Matrix](#EvalMat)\n",
    "* [5. Explore Different Models](#Explore)\n",
    "* [6. Model Comparison](#ModelComparison)\n",
    "* [7. Hyperparameter Tuning](#HyperparameterTuning)\n",
    "    * [7-1. Random Search](#RandomSearch)\n",
    "    * [7-2. Grid Search](#GridSearch)\n",
    "* [8. Feature Importance](#FeatureImportance)"
   ]
  },
  {
   "cell_type": "markdown",
   "metadata": {},
   "source": [
    "### Feedback:\n",
    "1. Have a better understanding of features which will be used in the model: 1. what they are, make it an explicit list, distributions are in EDA, right? please make sure you distinguish numerical and categorical features.   \n",
    "\n",
    "2. For Tree based models, there is no need to scale the data, this in fct can play a negative role. You can for logistic regression. \n",
    "\n",
    "3. Include lift metric - this is a very useful metric for these kinds of problems. \n",
    "\n",
    "4.  What does the ROC curve look like for these models?\n",
    "\n",
    "5.  Which best parameters came out from the grid search? List them explicitly. \n",
    "\n",
    "6. What is the conclusion, which model works the best? What metric would you use to quantify? I would suggest use lift, other metric can be used too (recall, for example)\n",
    "\n",
    "7. How do the probability distributions different among these models? I mean the probability for positive class (second element from the predic_proba)\n"
   ]
  },
  {
   "cell_type": "markdown",
   "metadata": {},
   "source": [
    "## 1. Import Packages <a class=\"anchor\" id=\"ImportPackages\"></a>"
   ]
  },
  {
   "cell_type": "code",
   "execution_count": 1,
   "metadata": {},
   "outputs": [],
   "source": [
    "import pandas as pd\n",
    "import numpy as np\n",
    "import matplotlib.pyplot as plt\n",
    "import seaborn as sns\n",
    "\n",
    "from sklearn.preprocessing import LabelEncoder, OneHotEncoder\n",
    "\n",
    "from sklearn.tree import DecisionTreeClassifier\n",
    "from sklearn.ensemble import RandomForestClassifier\n",
    "from sklearn.naive_bayes import GaussianNB\n",
    "from xgboost import XGBClassifier\n",
    "from sklearn.preprocessing import MinMaxScaler\n",
    "from sklearn.model_selection import train_test_split"
   ]
  },
  {
   "cell_type": "code",
   "execution_count": 2,
   "metadata": {},
   "outputs": [],
   "source": [
    "from sklearn.metrics import confusion_matrix\n",
    "from sklearn.metrics import accuracy_score\n",
    "from sklearn import __version__ as sklearn_version\n",
    "from sklearn import metrics, svm\n",
    "from sklearn.decomposition import PCA\n",
    "from sklearn.svm import SVC\n",
    "from sklearn.preprocessing import scale\n",
    "from sklearn.model_selection import train_test_split, cross_validate, train_test_split, RandomizedSearchCV, GridSearchCV, learning_curve\n",
    "from sklearn.preprocessing import StandardScaler, MinMaxScaler,LabelEncoder\n",
    "from sklearn.dummy import DummyRegressor\n",
    "from sklearn.linear_model import LinearRegression\n",
    "from sklearn.ensemble import RandomForestRegressor\n",
    "from sklearn.metrics import f1_score, r2_score, mean_squared_error, mean_absolute_error, classification_report, confusion_matrix, accuracy_score, roc_auc_score, roc_curve, recall_score, precision_recall_curve\n",
    "from sklearn.pipeline import make_pipeline\n",
    "from sklearn.impute import SimpleImputer\n",
    "from sklearn.feature_selection import SelectKBest, f_regression\n",
    "from sklearn.impute import SimpleImputer\n",
    "from sklearn import datasets\n",
    "import xgboost as xgb\n",
    "import catboost as ctb"
   ]
  },
  {
   "cell_type": "code",
   "execution_count": 3,
   "metadata": {},
   "outputs": [],
   "source": [
    "import pandas as pd\n",
    "import numpy as np\n",
    "import matplotlib.pyplot as plt\n",
    "from matplotlib import rcParams\n",
    "import seaborn as sns\n",
    "\n",
    "from sklearn.preprocessing import LabelEncoder, scale, StandardScaler, MinMaxScaler\n",
    "from sklearn.neighbors import KNeighborsClassifier\n",
    "from sklearn.tree import DecisionTreeClassifier\n",
    "from sklearn.ensemble import RandomForestClassifier\n",
    "from sklearn.linear_model import LogisticRegression\n",
    "from sklearn.naive_bayes import GaussianNB\n",
    "from xgboost import XGBClassifier, cv, DMatrix\n",
    "import xgboost as xgb\n",
    "from sklearn import model_selection\n",
    "from sklearn.model_selection import train_test_split, cross_validate, cross_val_score, RandomizedSearchCV, GridSearchCV, learning_curve, KFold, StratifiedKFold, RepeatedStratifiedKFold\n",
    "from sklearn.metrics import make_scorer, accuracy_score, precision_score, recall_score, confusion_matrix, f1_score, roc_auc_score, roc_curve, classification_report\n",
    "from sklearn.feature_selection import SelectKBest\n",
    "\n",
    "import warnings\n",
    "warnings.filterwarnings(\"ignore\")"
   ]
  },
  {
   "cell_type": "markdown",
   "metadata": {},
   "source": [
    "## 2. Load the Data <a class=\"anchor\" id=\"LoadData\"></a>"
   ]
  },
  {
   "cell_type": "code",
   "execution_count": 4,
   "metadata": {},
   "outputs": [],
   "source": [
    "data = pd.read_csv(\"bank-additional-full.csv\", delimiter=';')"
   ]
  },
  {
   "cell_type": "code",
   "execution_count": 5,
   "metadata": {},
   "outputs": [
    {
     "name": "stdout",
     "output_type": "stream",
     "text": [
      "<class 'pandas.core.frame.DataFrame'>\n",
      "RangeIndex: 41188 entries, 0 to 41187\n",
      "Data columns (total 21 columns):\n",
      " #   Column          Non-Null Count  Dtype  \n",
      "---  ------          --------------  -----  \n",
      " 0   age             41188 non-null  int64  \n",
      " 1   job             41188 non-null  object \n",
      " 2   marital         41188 non-null  object \n",
      " 3   education       41188 non-null  object \n",
      " 4   default         41188 non-null  object \n",
      " 5   housing         41188 non-null  object \n",
      " 6   loan            41188 non-null  object \n",
      " 7   contact         41188 non-null  object \n",
      " 8   month           41188 non-null  object \n",
      " 9   day_of_week     41188 non-null  object \n",
      " 10  duration        41188 non-null  int64  \n",
      " 11  campaign        41188 non-null  int64  \n",
      " 12  pdays           41188 non-null  int64  \n",
      " 13  previous        41188 non-null  int64  \n",
      " 14  poutcome        41188 non-null  object \n",
      " 15  emp.var.rate    41188 non-null  float64\n",
      " 16  cons.price.idx  41188 non-null  float64\n",
      " 17  cons.conf.idx   41188 non-null  float64\n",
      " 18  euribor3m       41188 non-null  float64\n",
      " 19  nr.employed     41188 non-null  float64\n",
      " 20  y               41188 non-null  object \n",
      "dtypes: float64(5), int64(5), object(11)\n",
      "memory usage: 6.6+ MB\n"
     ]
    }
   ],
   "source": [
    "data.info()"
   ]
  },
  {
   "cell_type": "markdown",
   "metadata": {},
   "source": [
    "## 3. Preprocessing <a class=\"anchor\" id=\"Preprocessing\"></a>"
   ]
  },
  {
   "cell_type": "code",
   "execution_count": 6,
   "metadata": {},
   "outputs": [],
   "source": [
    "int_col = data.dtypes[data.dtypes == 'int64'].index | data.dtypes[data.dtypes == 'float64'].index"
   ]
  },
  {
   "cell_type": "code",
   "execution_count": 7,
   "metadata": {},
   "outputs": [],
   "source": [
    "obj_col = data.dtypes[data.dtypes == 'object'].index"
   ]
  },
  {
   "cell_type": "markdown",
   "metadata": {},
   "source": [
    "### Drop duration \n",
    "-  this attribute highly affects the output target (e.g., ifduration=0 then y='no'). Yet, the duration is not known before a call is performed. Also, after the end of the call y is obviously known.Thus, this input should only be included for benchmark purposes and should be discarded if the intention is to have a realistic predictive model."
   ]
  },
  {
   "cell_type": "code",
   "execution_count": 8,
   "metadata": {},
   "outputs": [
    {
     "data": {
      "text/plain": [
       "(41188, 21)"
      ]
     },
     "execution_count": 8,
     "metadata": {},
     "output_type": "execute_result"
    }
   ],
   "source": [
    "df = data.copy()\n",
    "df.shape"
   ]
  },
  {
   "cell_type": "code",
   "execution_count": 9,
   "metadata": {},
   "outputs": [
    {
     "data": {
      "text/plain": [
       "Index(['age', 'job', 'marital', 'education', 'default', 'housing', 'loan',\n",
       "       'contact', 'month', 'day_of_week', 'campaign', 'pdays', 'previous',\n",
       "       'poutcome', 'emp.var.rate', 'cons.price.idx', 'cons.conf.idx',\n",
       "       'euribor3m', 'nr.employed', 'y'],\n",
       "      dtype='object')"
      ]
     },
     "execution_count": 9,
     "metadata": {},
     "output_type": "execute_result"
    }
   ],
   "source": [
    "df = df.drop(['duration'],axis=1)\n",
    "df.columns"
   ]
  },
  {
   "cell_type": "code",
   "execution_count": 10,
   "metadata": {},
   "outputs": [
    {
     "data": {
      "text/plain": [
       "(41188, 20)"
      ]
     },
     "execution_count": 10,
     "metadata": {},
     "output_type": "execute_result"
    }
   ],
   "source": [
    "df.shape"
   ]
  },
  {
   "cell_type": "code",
   "execution_count": 11,
   "metadata": {},
   "outputs": [
    {
     "data": {
      "text/plain": [
       "yes        21576\n",
       "no         18622\n",
       "unknown      990\n",
       "Name: housing, dtype: int64"
      ]
     },
     "execution_count": 11,
     "metadata": {},
     "output_type": "execute_result"
    }
   ],
   "source": [
    "data['housing'].value_counts()"
   ]
  },
  {
   "cell_type": "markdown",
   "metadata": {},
   "source": [
    "### Convert the \"object\" variables into numeric "
   ]
  },
  {
   "cell_type": "code",
   "execution_count": 12,
   "metadata": {},
   "outputs": [
    {
     "data": {
      "text/plain": [
       "Index(['job', 'marital', 'education', 'default', 'housing', 'loan', 'contact',\n",
       "       'month', 'day_of_week', 'poutcome', 'y'],\n",
       "      dtype='object')"
      ]
     },
     "execution_count": 12,
     "metadata": {},
     "output_type": "execute_result"
    }
   ],
   "source": [
    "obj_col"
   ]
  },
  {
   "cell_type": "markdown",
   "metadata": {},
   "source": [
    "#### Catecorical Variables: \n",
    "##### Binary (yes, no, unknown)\n",
    "- 'default', 'housing', 'loan'\n",
    "\n",
    "##### Binary (success, failure, unknown)\n",
    "- 'poutcome'\n",
    "\n",
    "#### Ordinal\n",
    "- 'month', 'day_of_week'\n",
    "\n",
    "#### Nominal\n",
    "- 'job', 'marital', 'education', 'contact'"
   ]
  },
  {
   "cell_type": "markdown",
   "metadata": {},
   "source": [
    "#### Target variable: y"
   ]
  },
  {
   "cell_type": "code",
   "execution_count": 13,
   "metadata": {},
   "outputs": [
    {
     "data": {
      "text/plain": [
       "0    36548\n",
       "1     4640\n",
       "Name: y, dtype: int64"
      ]
     },
     "execution_count": 13,
     "metadata": {},
     "output_type": "execute_result"
    }
   ],
   "source": [
    "df['y'] = df.y.apply(lambda x:0 if x=='no' else 1)\n",
    "df['y'].value_counts()"
   ]
  },
  {
   "cell_type": "markdown",
   "metadata": {},
   "source": [
    "##### Binary (yes, no, unknown)\n",
    "####  1) Label Binary Variables"
   ]
  },
  {
   "cell_type": "code",
   "execution_count": 14,
   "metadata": {},
   "outputs": [],
   "source": [
    "binary = ['default', 'housing', 'loan']\n",
    "#creating binary map\n",
    "bin_map = {'yes': 1, 'no': 0, 'unknown':-1}\n",
    "\n",
    "#creating new labelled columns\n",
    "for i in binary:\n",
    "    df[i] = df[i].map(bin_map)"
   ]
  },
  {
   "cell_type": "code",
   "execution_count": 15,
   "metadata": {},
   "outputs": [],
   "source": [
    "#creating binary map\n",
    "bin_map_alt = {'success': 1, 'failure': 0, 'nonexistent':-1}\n",
    "\n",
    "#creating new labelled columns\n",
    "df['poutcome'] = df['poutcome'].map(bin_map_alt)"
   ]
  },
  {
   "cell_type": "markdown",
   "metadata": {},
   "source": [
    "#### 2) Label Ordinal Variable"
   ]
  },
  {
   "cell_type": "code",
   "execution_count": 16,
   "metadata": {},
   "outputs": [],
   "source": [
    "month_map = {'mar': 3,\n",
    "            'apr':4,\n",
    "            'may':5,\n",
    "            'jun':6,\n",
    "            'jul':7,\n",
    "            'aug':8,\n",
    "            'sep':9,\n",
    "            'oct':10,\n",
    "            'nov':11,\n",
    "            'dec':12}\n",
    "df['month'] = df['month'].map(month_map)"
   ]
  },
  {
   "cell_type": "markdown",
   "metadata": {},
   "source": [
    "#### 3) Label Nominal Variable: One Hot Encoding - Dummy Variable\n"
   ]
  },
  {
   "cell_type": "code",
   "execution_count": 17,
   "metadata": {},
   "outputs": [],
   "source": [
    "dum_features = ['job', 'marital', 'education', 'contact', 'day_of_week']\n",
    "df = pd.get_dummies(df,\n",
    "                     columns=dum_features,\n",
    "                     drop_first=True) #drop the first column to resolve multicollinearity problem"
   ]
  },
  {
   "cell_type": "code",
   "execution_count": 18,
   "metadata": {},
   "outputs": [
    {
     "data": {
      "text/plain": [
       "(41188, 41)"
      ]
     },
     "execution_count": 18,
     "metadata": {},
     "output_type": "execute_result"
    }
   ],
   "source": [
    "df.shape"
   ]
  },
  {
   "cell_type": "code",
   "execution_count": 19,
   "metadata": {},
   "outputs": [
    {
     "data": {
      "text/html": [
       "<div>\n",
       "<style scoped>\n",
       "    .dataframe tbody tr th:only-of-type {\n",
       "        vertical-align: middle;\n",
       "    }\n",
       "\n",
       "    .dataframe tbody tr th {\n",
       "        vertical-align: top;\n",
       "    }\n",
       "\n",
       "    .dataframe thead th {\n",
       "        text-align: right;\n",
       "    }\n",
       "</style>\n",
       "<table border=\"1\" class=\"dataframe\">\n",
       "  <thead>\n",
       "    <tr style=\"text-align: right;\">\n",
       "      <th></th>\n",
       "      <th>count</th>\n",
       "      <th>%</th>\n",
       "    </tr>\n",
       "  </thead>\n",
       "  <tbody>\n",
       "    <tr>\n",
       "      <th>age</th>\n",
       "      <td>0</td>\n",
       "      <td>0.0</td>\n",
       "    </tr>\n",
       "    <tr>\n",
       "      <th>job_services</th>\n",
       "      <td>0</td>\n",
       "      <td>0.0</td>\n",
       "    </tr>\n",
       "    <tr>\n",
       "      <th>job_technician</th>\n",
       "      <td>0</td>\n",
       "      <td>0.0</td>\n",
       "    </tr>\n",
       "    <tr>\n",
       "      <th>job_unemployed</th>\n",
       "      <td>0</td>\n",
       "      <td>0.0</td>\n",
       "    </tr>\n",
       "    <tr>\n",
       "      <th>job_unknown</th>\n",
       "      <td>0</td>\n",
       "      <td>0.0</td>\n",
       "    </tr>\n",
       "    <tr>\n",
       "      <th>marital_married</th>\n",
       "      <td>0</td>\n",
       "      <td>0.0</td>\n",
       "    </tr>\n",
       "    <tr>\n",
       "      <th>marital_single</th>\n",
       "      <td>0</td>\n",
       "      <td>0.0</td>\n",
       "    </tr>\n",
       "    <tr>\n",
       "      <th>marital_unknown</th>\n",
       "      <td>0</td>\n",
       "      <td>0.0</td>\n",
       "    </tr>\n",
       "    <tr>\n",
       "      <th>education_basic.6y</th>\n",
       "      <td>0</td>\n",
       "      <td>0.0</td>\n",
       "    </tr>\n",
       "    <tr>\n",
       "      <th>education_basic.9y</th>\n",
       "      <td>0</td>\n",
       "      <td>0.0</td>\n",
       "    </tr>\n",
       "    <tr>\n",
       "      <th>education_high.school</th>\n",
       "      <td>0</td>\n",
       "      <td>0.0</td>\n",
       "    </tr>\n",
       "    <tr>\n",
       "      <th>education_illiterate</th>\n",
       "      <td>0</td>\n",
       "      <td>0.0</td>\n",
       "    </tr>\n",
       "    <tr>\n",
       "      <th>education_professional.course</th>\n",
       "      <td>0</td>\n",
       "      <td>0.0</td>\n",
       "    </tr>\n",
       "    <tr>\n",
       "      <th>education_university.degree</th>\n",
       "      <td>0</td>\n",
       "      <td>0.0</td>\n",
       "    </tr>\n",
       "    <tr>\n",
       "      <th>education_unknown</th>\n",
       "      <td>0</td>\n",
       "      <td>0.0</td>\n",
       "    </tr>\n",
       "    <tr>\n",
       "      <th>contact_telephone</th>\n",
       "      <td>0</td>\n",
       "      <td>0.0</td>\n",
       "    </tr>\n",
       "    <tr>\n",
       "      <th>day_of_week_mon</th>\n",
       "      <td>0</td>\n",
       "      <td>0.0</td>\n",
       "    </tr>\n",
       "    <tr>\n",
       "      <th>day_of_week_thu</th>\n",
       "      <td>0</td>\n",
       "      <td>0.0</td>\n",
       "    </tr>\n",
       "    <tr>\n",
       "      <th>day_of_week_tue</th>\n",
       "      <td>0</td>\n",
       "      <td>0.0</td>\n",
       "    </tr>\n",
       "    <tr>\n",
       "      <th>job_student</th>\n",
       "      <td>0</td>\n",
       "      <td>0.0</td>\n",
       "    </tr>\n",
       "    <tr>\n",
       "      <th>job_self-employed</th>\n",
       "      <td>0</td>\n",
       "      <td>0.0</td>\n",
       "    </tr>\n",
       "    <tr>\n",
       "      <th>default</th>\n",
       "      <td>0</td>\n",
       "      <td>0.0</td>\n",
       "    </tr>\n",
       "    <tr>\n",
       "      <th>job_retired</th>\n",
       "      <td>0</td>\n",
       "      <td>0.0</td>\n",
       "    </tr>\n",
       "    <tr>\n",
       "      <th>housing</th>\n",
       "      <td>0</td>\n",
       "      <td>0.0</td>\n",
       "    </tr>\n",
       "    <tr>\n",
       "      <th>loan</th>\n",
       "      <td>0</td>\n",
       "      <td>0.0</td>\n",
       "    </tr>\n",
       "    <tr>\n",
       "      <th>month</th>\n",
       "      <td>0</td>\n",
       "      <td>0.0</td>\n",
       "    </tr>\n",
       "    <tr>\n",
       "      <th>campaign</th>\n",
       "      <td>0</td>\n",
       "      <td>0.0</td>\n",
       "    </tr>\n",
       "    <tr>\n",
       "      <th>pdays</th>\n",
       "      <td>0</td>\n",
       "      <td>0.0</td>\n",
       "    </tr>\n",
       "    <tr>\n",
       "      <th>previous</th>\n",
       "      <td>0</td>\n",
       "      <td>0.0</td>\n",
       "    </tr>\n",
       "    <tr>\n",
       "      <th>poutcome</th>\n",
       "      <td>0</td>\n",
       "      <td>0.0</td>\n",
       "    </tr>\n",
       "    <tr>\n",
       "      <th>emp.var.rate</th>\n",
       "      <td>0</td>\n",
       "      <td>0.0</td>\n",
       "    </tr>\n",
       "    <tr>\n",
       "      <th>cons.price.idx</th>\n",
       "      <td>0</td>\n",
       "      <td>0.0</td>\n",
       "    </tr>\n",
       "    <tr>\n",
       "      <th>cons.conf.idx</th>\n",
       "      <td>0</td>\n",
       "      <td>0.0</td>\n",
       "    </tr>\n",
       "    <tr>\n",
       "      <th>euribor3m</th>\n",
       "      <td>0</td>\n",
       "      <td>0.0</td>\n",
       "    </tr>\n",
       "    <tr>\n",
       "      <th>nr.employed</th>\n",
       "      <td>0</td>\n",
       "      <td>0.0</td>\n",
       "    </tr>\n",
       "    <tr>\n",
       "      <th>y</th>\n",
       "      <td>0</td>\n",
       "      <td>0.0</td>\n",
       "    </tr>\n",
       "    <tr>\n",
       "      <th>job_blue-collar</th>\n",
       "      <td>0</td>\n",
       "      <td>0.0</td>\n",
       "    </tr>\n",
       "    <tr>\n",
       "      <th>job_entrepreneur</th>\n",
       "      <td>0</td>\n",
       "      <td>0.0</td>\n",
       "    </tr>\n",
       "    <tr>\n",
       "      <th>job_housemaid</th>\n",
       "      <td>0</td>\n",
       "      <td>0.0</td>\n",
       "    </tr>\n",
       "    <tr>\n",
       "      <th>job_management</th>\n",
       "      <td>0</td>\n",
       "      <td>0.0</td>\n",
       "    </tr>\n",
       "    <tr>\n",
       "      <th>day_of_week_wed</th>\n",
       "      <td>0</td>\n",
       "      <td>0.0</td>\n",
       "    </tr>\n",
       "  </tbody>\n",
       "</table>\n",
       "</div>"
      ],
      "text/plain": [
       "                               count    %\n",
       "age                                0  0.0\n",
       "job_services                       0  0.0\n",
       "job_technician                     0  0.0\n",
       "job_unemployed                     0  0.0\n",
       "job_unknown                        0  0.0\n",
       "marital_married                    0  0.0\n",
       "marital_single                     0  0.0\n",
       "marital_unknown                    0  0.0\n",
       "education_basic.6y                 0  0.0\n",
       "education_basic.9y                 0  0.0\n",
       "education_high.school              0  0.0\n",
       "education_illiterate               0  0.0\n",
       "education_professional.course      0  0.0\n",
       "education_university.degree        0  0.0\n",
       "education_unknown                  0  0.0\n",
       "contact_telephone                  0  0.0\n",
       "day_of_week_mon                    0  0.0\n",
       "day_of_week_thu                    0  0.0\n",
       "day_of_week_tue                    0  0.0\n",
       "job_student                        0  0.0\n",
       "job_self-employed                  0  0.0\n",
       "default                            0  0.0\n",
       "job_retired                        0  0.0\n",
       "housing                            0  0.0\n",
       "loan                               0  0.0\n",
       "month                              0  0.0\n",
       "campaign                           0  0.0\n",
       "pdays                              0  0.0\n",
       "previous                           0  0.0\n",
       "poutcome                           0  0.0\n",
       "emp.var.rate                       0  0.0\n",
       "cons.price.idx                     0  0.0\n",
       "cons.conf.idx                      0  0.0\n",
       "euribor3m                          0  0.0\n",
       "nr.employed                        0  0.0\n",
       "y                                  0  0.0\n",
       "job_blue-collar                    0  0.0\n",
       "job_entrepreneur                   0  0.0\n",
       "job_housemaid                      0  0.0\n",
       "job_management                     0  0.0\n",
       "day_of_week_wed                    0  0.0"
      ]
     },
     "execution_count": 19,
     "metadata": {},
     "output_type": "execute_result"
    }
   ],
   "source": [
    "# Make sure that there is no missing value\n",
    "missing = pd.concat([df.isnull().sum(), 100 * df.isnull().mean()], axis=1)\n",
    "missing.columns=['count', '%']\n",
    "missing.sort_values(by='count', ascending=False)"
   ]
  },
  {
   "cell_type": "markdown",
   "metadata": {},
   "source": [
    "## 5. Explore Different Models <a class=\"anchor\" id=\"EvalMat\"></a>"
   ]
  },
  {
   "cell_type": "code",
   "execution_count": 20,
   "metadata": {},
   "outputs": [],
   "source": [
    "# Classifiers\n",
    "from sklearn.neighbors import KNeighborsClassifier\n",
    "from sklearn.tree import DecisionTreeClassifier\n",
    "from sklearn.ensemble import RandomForestClassifier\n",
    "from sklearn.linear_model import LogisticRegression\n",
    "from sklearn.svm import SVC\n",
    "from sklearn.naive_bayes import GaussianNB\n",
    "from xgboost import XGBClassifier\n",
    "\n",
    "# Metrics\n",
    "from sklearn.model_selection import  GridSearchCV\n",
    "from sklearn import model_selection\n",
    "from sklearn.model_selection import cross_val_score\n",
    "from sklearn.metrics import make_scorer, accuracy_score, precision_score, recall_score\n",
    "\n",
    "import warnings\n",
    "warnings.filterwarnings(\"ignore\")"
   ]
  },
  {
   "cell_type": "markdown",
   "metadata": {},
   "source": [
    "### Train Test Split"
   ]
  },
  {
   "cell_type": "code",
   "execution_count": 21,
   "metadata": {},
   "outputs": [],
   "source": [
    "seed = 123\n",
    "\n",
    "X = df.drop('y',axis=1)\n",
    "y = df['y']"
   ]
  },
  {
   "cell_type": "code",
   "execution_count": 22,
   "metadata": {},
   "outputs": [],
   "source": [
    "X_train, X_test, y_train, y_test = train_test_split(X,\n",
    "                                                    y,\n",
    "                                                    test_size=0.3, \n",
    "                                                    random_state = seed)"
   ]
  },
  {
   "cell_type": "code",
   "execution_count": 23,
   "metadata": {},
   "outputs": [
    {
     "name": "stdout",
     "output_type": "stream",
     "text": [
      "X_train shape: (28831, 40) | X_test shape: (12357, 40)\n",
      "y_train shape: (28831,) | y_test shape: (12357,)\n",
      "y_train mean: 0.11251777600499463 | y_test mean: 0.11297240430525209\n"
     ]
    }
   ],
   "source": [
    "print(\"X_train shape:\", X_train.shape, \"| X_test shape:\", X_test.shape)\n",
    "print(\"y_train shape:\", y_train.shape, \"| y_test shape:\", y_test.shape)\n",
    "print(\"y_train mean:\", np.mean(y_train), \"| y_test mean:\", np.mean(y_test,))"
   ]
  },
  {
   "cell_type": "markdown",
   "metadata": {},
   "source": [
    "### k-fold"
   ]
  },
  {
   "cell_type": "code",
   "execution_count": 24,
   "metadata": {},
   "outputs": [
    {
     "data": {
      "text/plain": [
       "StratifiedKFold(n_splits=10, random_state=123, shuffle=True)"
      ]
     },
     "execution_count": 24,
     "metadata": {},
     "output_type": "execute_result"
    }
   ],
   "source": [
    "seed = 123\n",
    "k = 10\n",
    "\n",
    "kfolds = model_selection.StratifiedKFold(n_splits=k, shuffle = True, random_state=seed)\n",
    "kfolds"
   ]
  },
  {
   "cell_type": "markdown",
   "metadata": {},
   "source": [
    "### Binary Classification:\n",
    "- Logistic Regression\n",
    "- k-Nearest Neighbors\n",
    "- Decision Trees\n",
    "- Random Forest\n",
    "- Support Vector Machine\n",
    "- Gaussian Naive Bayes\n",
    "- XGBoost"
   ]
  },
  {
   "cell_type": "code",
   "execution_count": 25,
   "metadata": {},
   "outputs": [],
   "source": [
    "from catboost import CatBoostClassifier\n",
    "from sklearn.ensemble import GradientBoostingClassifier\n",
    "from sklearn.svm import LinearSVC\n",
    "\n",
    "models =[LogisticRegression(),\n",
    "        KNeighborsClassifier(),\n",
    "        DecisionTreeClassifier(random_state=seed),\n",
    "        RandomForestClassifier(random_state=seed),\n",
    "        GaussianNB(),\n",
    "        GradientBoostingClassifier(),\n",
    "        XGBClassifier()]\n",
    "names = ['LR','KNN','CART','RF','NB','GB','XGB']\n",
    "model_dict = dict(zip(names,models))"
   ]
  },
  {
   "cell_type": "markdown",
   "metadata": {},
   "source": [
    "#### Evalulation Metrics:\n",
    "- Accuracy: (TP+TN)/(TP+TN+FP+FN)\n",
    "- Precision: TP/(TP+FP)\n",
    "- Recall (= Sensitivity): TP/(TP+FN)\n",
    "- F1 Score:\n",
    "    - Weighted average of Precision and Recall\n",
    "- Area under the ROC (Received Operating Characteristic) curve (= AUC-ROC)\n",
    "    - ROC: probability curve\n",
    "    - AUC: degree or measure of separability (Higher AUC, better the model is distinguishing 0s and 1s)\n",
    "    "
   ]
  },
  {
   "cell_type": "markdown",
   "metadata": {},
   "source": [
    "##### Function to train model with n fold cross validation"
   ]
  },
  {
   "cell_type": "code",
   "execution_count": 26,
   "metadata": {},
   "outputs": [],
   "source": [
    "def model_eval(models, n):\n",
    "    scores = {'accuracy' : make_scorer(accuracy_score), \n",
    "           'precision' : make_scorer(precision_score),\n",
    "           'recall' : make_scorer(recall_score), \n",
    "           'f1_score' : make_scorer(f1_score),\n",
    "           'roc_auc' : make_scorer(roc_auc_score, needs_proba=True)}\n",
    "    kfold = KFold(n_splits=n)\n",
    "    model = models\n",
    "    model_result = model_selection.cross_validate(estimator=model,\n",
    "                                                  X=X_train,\n",
    "                                                  y=y_train,\n",
    "                                                  cv=kfold,\n",
    "                                                  scoring=scores) \n",
    "    result = pd.DataFrame(model_result).round(2)\n",
    "    return result"
   ]
  },
  {
   "cell_type": "markdown",
   "metadata": {},
   "source": [
    "##### Function to test result for all models"
   ]
  },
  {
   "cell_type": "code",
   "execution_count": 27,
   "metadata": {},
   "outputs": [],
   "source": [
    "def model_perform(n, model_eval):\n",
    "    model_score_average = []\n",
    "    for model in model_dict.values():\n",
    "        model_score_average.append(model_eval(model, n).mean())\n",
    "    df_model_eval = pd.DataFrame(model_score_average,index=list(model_dict.keys())).round(3)\n",
    "    df_model_eval = df_model_eval.reset_index().rename(columns={'index':'model'})\n",
    "    return df_model_eval"
   ]
  },
  {
   "cell_type": "markdown",
   "metadata": {},
   "source": [
    "#### Baseline Model Evaluation"
   ]
  },
  {
   "cell_type": "code",
   "execution_count": 28,
   "metadata": {
    "scrolled": true
   },
   "outputs": [
    {
     "data": {
      "text/html": [
       "<div>\n",
       "<style scoped>\n",
       "    .dataframe tbody tr th:only-of-type {\n",
       "        vertical-align: middle;\n",
       "    }\n",
       "\n",
       "    .dataframe tbody tr th {\n",
       "        vertical-align: top;\n",
       "    }\n",
       "\n",
       "    .dataframe thead th {\n",
       "        text-align: right;\n",
       "    }\n",
       "</style>\n",
       "<table border=\"1\" class=\"dataframe\">\n",
       "  <thead>\n",
       "    <tr style=\"text-align: right;\">\n",
       "      <th></th>\n",
       "      <th>model</th>\n",
       "      <th>fit_time</th>\n",
       "      <th>score_time</th>\n",
       "      <th>test_accuracy</th>\n",
       "      <th>test_precision</th>\n",
       "      <th>test_recall</th>\n",
       "      <th>test_f1_score</th>\n",
       "      <th>test_roc_auc</th>\n",
       "    </tr>\n",
       "  </thead>\n",
       "  <tbody>\n",
       "    <tr>\n",
       "      <th>0</th>\n",
       "      <td>LR</td>\n",
       "      <td>0.523</td>\n",
       "      <td>0.060</td>\n",
       "      <td>0.897</td>\n",
       "      <td>0.690</td>\n",
       "      <td>0.183</td>\n",
       "      <td>0.293</td>\n",
       "      <td>0.760</td>\n",
       "    </tr>\n",
       "    <tr>\n",
       "      <th>1</th>\n",
       "      <td>KNN</td>\n",
       "      <td>0.027</td>\n",
       "      <td>19.030</td>\n",
       "      <td>0.887</td>\n",
       "      <td>0.510</td>\n",
       "      <td>0.280</td>\n",
       "      <td>0.360</td>\n",
       "      <td>0.730</td>\n",
       "    </tr>\n",
       "    <tr>\n",
       "      <th>2</th>\n",
       "      <td>CART</td>\n",
       "      <td>0.373</td>\n",
       "      <td>0.070</td>\n",
       "      <td>0.837</td>\n",
       "      <td>0.297</td>\n",
       "      <td>0.330</td>\n",
       "      <td>0.313</td>\n",
       "      <td>0.617</td>\n",
       "    </tr>\n",
       "    <tr>\n",
       "      <th>3</th>\n",
       "      <td>RF</td>\n",
       "      <td>5.223</td>\n",
       "      <td>1.160</td>\n",
       "      <td>0.893</td>\n",
       "      <td>0.547</td>\n",
       "      <td>0.287</td>\n",
       "      <td>0.373</td>\n",
       "      <td>0.773</td>\n",
       "    </tr>\n",
       "    <tr>\n",
       "      <th>4</th>\n",
       "      <td>NB</td>\n",
       "      <td>0.053</td>\n",
       "      <td>0.090</td>\n",
       "      <td>0.830</td>\n",
       "      <td>0.327</td>\n",
       "      <td>0.477</td>\n",
       "      <td>0.390</td>\n",
       "      <td>0.753</td>\n",
       "    </tr>\n",
       "    <tr>\n",
       "      <th>5</th>\n",
       "      <td>GB</td>\n",
       "      <td>7.550</td>\n",
       "      <td>0.127</td>\n",
       "      <td>0.900</td>\n",
       "      <td>0.647</td>\n",
       "      <td>0.233</td>\n",
       "      <td>0.340</td>\n",
       "      <td>0.793</td>\n",
       "    </tr>\n",
       "    <tr>\n",
       "      <th>6</th>\n",
       "      <td>XGB</td>\n",
       "      <td>3.337</td>\n",
       "      <td>0.180</td>\n",
       "      <td>0.897</td>\n",
       "      <td>0.580</td>\n",
       "      <td>0.283</td>\n",
       "      <td>0.380</td>\n",
       "      <td>0.780</td>\n",
       "    </tr>\n",
       "  </tbody>\n",
       "</table>\n",
       "</div>"
      ],
      "text/plain": [
       "  model  fit_time  score_time  test_accuracy  test_precision  test_recall  \\\n",
       "0    LR     0.523       0.060          0.897           0.690        0.183   \n",
       "1   KNN     0.027      19.030          0.887           0.510        0.280   \n",
       "2  CART     0.373       0.070          0.837           0.297        0.330   \n",
       "3    RF     5.223       1.160          0.893           0.547        0.287   \n",
       "4    NB     0.053       0.090          0.830           0.327        0.477   \n",
       "5    GB     7.550       0.127          0.900           0.647        0.233   \n",
       "6   XGB     3.337       0.180          0.897           0.580        0.283   \n",
       "\n",
       "   test_f1_score  test_roc_auc  \n",
       "0          0.293         0.760  \n",
       "1          0.360         0.730  \n",
       "2          0.313         0.617  \n",
       "3          0.373         0.773  \n",
       "4          0.390         0.753  \n",
       "5          0.340         0.793  \n",
       "6          0.380         0.780  "
      ]
     },
     "execution_count": 28,
     "metadata": {},
     "output_type": "execute_result"
    }
   ],
   "source": [
    "model_result = model_perform(3, model_eval)\n",
    "model_result"
   ]
  },
  {
   "cell_type": "code",
   "execution_count": 29,
   "metadata": {},
   "outputs": [
    {
     "data": {
      "image/png": "[encoded data removed]",
      "text/plain": [
       "<Figure size 720x1440 with 5 Axes>"
      ]
     },
     "metadata": {
      "needs_background": "light"
     },
     "output_type": "display_data"
    }
   ],
   "source": [
    "# plot barh plot to check the average score of recall, fscore, accuracy, roc_auc from cross validation\n",
    "fig,axs = plt.subplots(5,1, figsize=(10,20))\n",
    "\n",
    "# Recall\n",
    "axs[0].barh('model', 'test_recall', data=model_result)\n",
    "axs[0].set_xlabel('Recall')\n",
    "axs[0].plot([0.3,0.3],[-1,7],'r--')\n",
    "\n",
    "# precision\n",
    "axs[1].barh('model', 'test_precision', data=model_result)\n",
    "axs[1].set_xlabel('precision')\n",
    "axs[1].plot([0.6,0.6],[-1,7],'r--')\n",
    "\n",
    "# f1 Score\n",
    "axs[2].barh('model', 'test_f1_score', data=model_result)\n",
    "axs[2].set_xlabel('F1score')\n",
    "axs[2].plot([0.35,0.35],[-1,7],'r--')\n",
    "\n",
    "# Accuracy\n",
    "axs[3].barh('model', 'test_accuracy', data=model_result)\n",
    "axs[3].set_xlabel('Accuracy')\n",
    "axs[3].plot([0.85,0.85],[-1,7],'r--')\n",
    "\n",
    "# ROC AUC\n",
    "axs[4].barh('model', 'test_roc_auc',data=model_result)\n",
    "axs[4].set_xlabel('ROC_AUC')\n",
    "axs[4].plot([0.75,0.75],[-1,7],'r--')\n",
    "\n",
    "plt.savefig('image/_4_baselineModelEval.png',bbox_inches = 'tight')\n",
    "plt.show()\n"
   ]
  },
  {
   "cell_type": "markdown",
   "metadata": {},
   "source": [
    "##### Based on this, the output LR, KNN, RF and XGBClassifier outperformed the other models."
   ]
  },
  {
   "cell_type": "markdown",
   "metadata": {},
   "source": [
    "#### Evaluation Matrix"
   ]
  },
  {
   "cell_type": "code",
   "execution_count": 30,
   "metadata": {},
   "outputs": [],
   "source": [
    "def Evaluationmatrix(y_true, y_predict):\n",
    "    print('Accuracy Score:', round(accuracy_score(y_test,yhat),2))\n",
    "    print('Precision Score:', round(precision_score(y_test,yhat),2))\n",
    "    print('Recall Score:', round(recall_score(y_test,yhat),2))\n",
    "    print('CV Score:', round(cross_val_score(model, X_train_s, y_train, cv=kfolds, n_jobs=1, scoring = 'accuracy').mean(),2))"
   ]
  },
  {
   "cell_type": "code",
   "execution_count": 31,
   "metadata": {},
   "outputs": [],
   "source": [
    "#to add into results_index for evaluation of error term \n",
    "def Evaluationmatrix_dict(y_true, y_predict, name = 'Linear - Integer'):\n",
    "    dict_matrix = {}\n",
    "    dict_matrix['Model'] = name\n",
    "    dict_matrix['Accuracy Score'] = round(accuracy_score(y_test,yhat),3)\n",
    "    dict_matrix['Precision Score'] = round(precision_score(y_test,yhat),3)\n",
    "    dict_matrix['Recall Score'] = round(recall_score(y_test,yhat),3)\n",
    "    dict_matrix['CV Score'] = round(cross_val_score(model, X, y, cv=kfolds, n_jobs=1, scoring = 'accuracy').mean(),3)\n",
    "    dict_matrix['ROC AUC'] = round(roc_auc_score(y_test,yhat),3)\n",
    "    dict_matrix['F1 Score'] = round(f1_score(y_test,yhat),3)\n",
    "    return dict_matrix"
   ]
  },
  {
   "cell_type": "code",
   "execution_count": 32,
   "metadata": {},
   "outputs": [],
   "source": [
    "results = pd.DataFrame()"
   ]
  },
  {
   "cell_type": "markdown",
   "metadata": {},
   "source": [
    "### 5-1. Logistic Regression\n",
    "- use the scaled data"
   ]
  },
  {
   "cell_type": "markdown",
   "metadata": {},
   "source": [
    "#### Scale the data\n",
    "\n",
    "- StandardScaler(): \n",
    "    - Assumes that the data is normally distributed\n",
    "    - Rescales the variables so that the distribution centers around 0 with standard deviation of 1\n",
    "    - Influence of outliers - does not guarantee balanced feature scales when there are outliers \n",
    "- MinMaxScaler(): \n",
    "    - Rescales the variables so that all the values are in the same range of 0 to 1\n",
    "    - Less influenced by outliers, but pushes all inliers in a narrow range\n",
    "    \n",
    "- For tree-based models, no need to use the scaled data"
   ]
  },
  {
   "cell_type": "code",
   "execution_count": 33,
   "metadata": {},
   "outputs": [],
   "source": [
    "scaler = MinMaxScaler()\n",
    "X_train_s = scaler.fit_transform(X_train)\n",
    "X_test_s = scaler.transform(X_test)"
   ]
  },
  {
   "cell_type": "code",
   "execution_count": 34,
   "metadata": {},
   "outputs": [],
   "source": [
    "model = LogisticRegression(random_state=seed)\n",
    "model.fit(X_train_s,y_train)\n",
    "yhat=model.predict(X_test_s)"
   ]
  },
  {
   "cell_type": "code",
   "execution_count": 35,
   "metadata": {},
   "outputs": [],
   "source": [
    "results = results.append(Evaluationmatrix_dict(y_test,yhat,name=\"LR\"),ignore_index = True)"
   ]
  },
  {
   "cell_type": "code",
   "execution_count": 36,
   "metadata": {},
   "outputs": [
    {
     "name": "stdout",
     "output_type": "stream",
     "text": [
      "[[10827   134]\n",
      " [ 1088   308]]\n",
      "              precision    recall  f1-score   support\n",
      "\n",
      "           0       0.91      0.99      0.95     10961\n",
      "           1       0.70      0.22      0.34      1396\n",
      "\n",
      "    accuracy                           0.90     12357\n",
      "   macro avg       0.80      0.60      0.64     12357\n",
      "weighted avg       0.88      0.90      0.88     12357\n",
      "\n",
      "Accuracy Score: 0.9\n",
      "Precision Score: 0.7\n",
      "Recall Score: 0.22\n"
     ]
    }
   ],
   "source": [
    "print(confusion_matrix(y_test,yhat))\n",
    "print(classification_report(y_test,yhat))\n",
    "print('Accuracy Score:', round(accuracy_score(y_test,yhat),2))\n",
    "print('Precision Score:', round(precision_score(y_test,yhat),2))\n",
    "print('Recall Score:', round(recall_score(y_test,yhat),2))\n",
    "#print('CV Score:', round(cross_val_score(model, X_train_s, y_train, cv=kfolds, n_jobs=1, scoring = 'accuracy').mean(),2))"
   ]
  },
  {
   "cell_type": "markdown",
   "metadata": {},
   "source": [
    "- ROC Curve vs. Precision-Recall Curves\n",
    "    - ROC: roughly equal number of observations for each class\n",
    "    - Precision-Recall: moderate to large class imbalance"
   ]
  },
  {
   "cell_type": "markdown",
   "metadata": {},
   "source": [
    "- ROC Curve:\n",
    "    - Diagnostic tools that help with interpretation of probabilistic forecast for binary classification\n",
    "    - AUC: Area Under the Curve, summary if the skill of model.\n",
    "    - Small values on x-axis: Low false positives, high true negatives\n",
    "    - Large values on y-axis: High true positives, low false negatives\n",
    "\n",
    "Source: https://machinelearningmastery.com/roc-curves-and-precision-recall-curves-for-classification-in-python/"
   ]
  },
  {
   "cell_type": "code",
   "execution_count": 37,
   "metadata": {},
   "outputs": [
    {
     "name": "stdout",
     "output_type": "stream",
     "text": [
      "No Skill: ROC AUC=0.500\n",
      "Logistic: ROC AUC=0.786\n"
     ]
    },
    {
     "data": {
      "image/png": "[encoded data removed]",
      "text/plain": [
       "<Figure size 432x288 with 1 Axes>"
      ]
     },
     "metadata": {
      "needs_background": "light"
     },
     "output_type": "display_data"
    }
   ],
   "source": [
    "# no skill prediction (majority class)\n",
    "ns_probs = [0 for _ in range(len(y_test))]\n",
    "\n",
    "# predict probabilities\n",
    "lr_probs = model.predict_proba(X_test_s)\n",
    "lr_probs = lr_probs[:, 1] #probabilities for the positive outcome only\n",
    "\n",
    "# calculate scores\n",
    "ns_auc = roc_auc_score(y_test, ns_probs)\n",
    "lr_auc = roc_auc_score(y_test, lr_probs)\n",
    "print('No Skill: ROC AUC=%.3f' % (ns_auc))\n",
    "print('Logistic: ROC AUC=%.3f' % (lr_auc))\n",
    "\n",
    "# calculate roc curves\n",
    "ns_fpr, ns_tpr, _ = roc_curve(y_test, ns_probs)\n",
    "lr_fpr, lr_tpr, _ = roc_curve(y_test, lr_probs)\n",
    "\n",
    "# plot the roc curve for the model\n",
    "plt.plot(ns_fpr, ns_tpr, linestyle='--', marker='.', label='No Skill')\n",
    "plt.plot(lr_fpr, lr_tpr, label='Logistic')\n",
    "plt.xlabel('False Positive Rate')\n",
    "plt.ylabel('True Positive Rate')\n",
    "plt.legend()\n",
    "\n",
    "plt.savefig('image/_5_Base-LR.png',bbox_inches = 'tight')\n",
    "plt.show()"
   ]
  },
  {
   "cell_type": "code",
   "execution_count": 38,
   "metadata": {},
   "outputs": [],
   "source": [
    "lr_precision, lr_recall, _ = precision_recall_curve(y_test, lr_probs)"
   ]
  },
  {
   "cell_type": "markdown",
   "metadata": {},
   "source": [
    "### 5-2. Random Forest "
   ]
  },
  {
   "cell_type": "code",
   "execution_count": 39,
   "metadata": {},
   "outputs": [],
   "source": [
    "model = RandomForestClassifier(n_estimators = 10, max_depth=25, criterion = \"gini\", min_samples_split=10, random_state=seed)\n",
    "model.fit(X_train, y_train)\n",
    "yhat=model.predict(X_test)"
   ]
  },
  {
   "cell_type": "code",
   "execution_count": 40,
   "metadata": {},
   "outputs": [],
   "source": [
    "results = results.append(Evaluationmatrix_dict(y_test,yhat,name=\"RF\"),ignore_index = True)"
   ]
  },
  {
   "cell_type": "code",
   "execution_count": 41,
   "metadata": {},
   "outputs": [
    {
     "name": "stdout",
     "output_type": "stream",
     "text": [
      "[[10683   278]\n",
      " [  977   419]]\n",
      "              precision    recall  f1-score   support\n",
      "\n",
      "           0       0.92      0.97      0.94     10961\n",
      "           1       0.60      0.30      0.40      1396\n",
      "\n",
      "    accuracy                           0.90     12357\n",
      "   macro avg       0.76      0.64      0.67     12357\n",
      "weighted avg       0.88      0.90      0.88     12357\n",
      "\n",
      "Accuracy Score: 0.9\n",
      "Precision Score: 0.6\n",
      "Recall Score: 0.3\n",
      "CV Score: 0.9\n"
     ]
    }
   ],
   "source": [
    "print(confusion_matrix(y_test,yhat))\n",
    "print(classification_report(y_test,yhat))\n",
    "print('Accuracy Score:', round(accuracy_score(y_test,yhat),2))\n",
    "print('Precision Score:', round(precision_score(y_test,yhat),2))\n",
    "print('Recall Score:', round(recall_score(y_test,yhat),2))\n",
    "print('CV Score:', round(cross_val_score(model, X_train, y_train, cv=kfolds, n_jobs=1, scoring = 'accuracy').mean(),2))"
   ]
  },
  {
   "cell_type": "code",
   "execution_count": 42,
   "metadata": {},
   "outputs": [
    {
     "name": "stdout",
     "output_type": "stream",
     "text": [
      "No Skill: ROC AUC=0.500\n",
      "Random Forest: ROC AUC=0.785\n"
     ]
    },
    {
     "data": {
      "image/png": "[encoded data removed]",
      "text/plain": [
       "<Figure size 432x288 with 1 Axes>"
      ]
     },
     "metadata": {
      "needs_background": "light"
     },
     "output_type": "display_data"
    }
   ],
   "source": [
    "# predict probabilities\n",
    "rf_probs = model.predict_proba(X_test)\n",
    "rf_probs = rf_probs[:, 1] #probabilities for the positive outcome only\n",
    "\n",
    "# calculate scores\n",
    "rf_auc = roc_auc_score(y_test, rf_probs)\n",
    "print('No Skill: ROC AUC=%.3f' % (ns_auc))\n",
    "print('Random Forest: ROC AUC=%.3f' % (rf_auc))\n",
    "\n",
    "# calculate roc curves\n",
    "rf_fpr, rf_tpr, _ = roc_curve(y_test, rf_probs)\n",
    "\n",
    "# plot the roc curve for the model\n",
    "plt.plot(ns_fpr, ns_tpr, linestyle='--', label='No Skill')\n",
    "plt.plot(rf_fpr, rf_tpr, marker='.', label='Random Forest')\n",
    "plt.xlabel('False Positive Rate')\n",
    "plt.ylabel('True Positive Rate')\n",
    "plt.legend()\n",
    "\n",
    "plt.savefig('image/_6_base-RF.png',bbox_inches = 'tight')\n",
    "plt.show()"
   ]
  },
  {
   "cell_type": "code",
   "execution_count": 43,
   "metadata": {},
   "outputs": [
    {
     "data": {
      "image/png": "[encoded data removed]",
      "text/plain": [
       "<Figure size 720x432 with 1 Axes>"
      ]
     },
     "metadata": {
      "needs_background": "light"
     },
     "output_type": "display_data"
    }
   ],
   "source": [
    "# Create list of top most features based on importance\n",
    "feature_names = X_train.columns\n",
    "feature_imports = model.feature_importances_\n",
    "most_imp_features = pd.DataFrame([f for f in zip(feature_names,feature_imports)], columns=[\"Feature\", \"Importance\"]).nlargest(10, \"Importance\")\n",
    "most_imp_features.sort_values(by=\"Importance\", inplace=True)\n",
    "plt.figure(figsize=(10,6))\n",
    "plt.barh(range(len(most_imp_features)), most_imp_features.Importance, align='center', alpha=0.8)\n",
    "plt.yticks(range(len(most_imp_features)), most_imp_features.Feature, fontsize=14)\n",
    "plt.xlabel('Importance')\n",
    "plt.title('Most important features - Random Forest ')\n",
    "plt.show()"
   ]
  },
  {
   "cell_type": "markdown",
   "metadata": {},
   "source": [
    "### Random Forest\n",
    "\n",
    "RF = RandomForestClassifier()\n",
    "\n",
    "params = {\n",
    "    \"n_estimators\": np.array([50, 100, 200, 300]), \n",
    "    \"max_depth\": [3, 6, 9, 12, 15, 18, 21],\n",
    "}\n",
    "\n",
    "grid_rf = GridSearchCV(RF, param_grid=params, cv = kfolds)\n",
    "grid_rf.fit(X, y)\n",
    "\n",
    "print(X_train, y_train)\n",
    "print(grid_rf.best_params_)"
   ]
  },
  {
   "cell_type": "markdown",
   "metadata": {},
   "source": [
    "### 5-4. XG Boost"
   ]
  },
  {
   "cell_type": "code",
   "execution_count": 44,
   "metadata": {},
   "outputs": [],
   "source": [
    "model = XGBClassifier()\n",
    "model.fit(X_train, y_train)\n",
    "yhat = model.predict(X_test)"
   ]
  },
  {
   "cell_type": "code",
   "execution_count": 45,
   "metadata": {},
   "outputs": [],
   "source": [
    "results = results.append(Evaluationmatrix_dict(y_test,yhat,name=\"XGB\"),ignore_index = True)"
   ]
  },
  {
   "cell_type": "code",
   "execution_count": 46,
   "metadata": {},
   "outputs": [
    {
     "name": "stdout",
     "output_type": "stream",
     "text": [
      "[[10657   304]\n",
      " [  984   412]]\n",
      "              precision    recall  f1-score   support\n",
      "\n",
      "           0       0.92      0.97      0.94     10961\n",
      "           1       0.58      0.30      0.39      1396\n",
      "\n",
      "    accuracy                           0.90     12357\n",
      "   macro avg       0.75      0.63      0.67     12357\n",
      "weighted avg       0.88      0.90      0.88     12357\n",
      "\n",
      "Accuracy Score: 0.9\n",
      "Precision Score: 0.58\n",
      "Recall Score: 0.3\n"
     ]
    }
   ],
   "source": [
    "print(confusion_matrix(y_test,yhat))\n",
    "print(classification_report(y_test,yhat))\n",
    "print('Accuracy Score:', round(accuracy_score(y_test,yhat),2))\n",
    "print('Precision Score:', round(precision_score(y_test,yhat),2))\n",
    "print('Recall Score:', round(recall_score(y_test,yhat),2))\n",
    "#print('CV Score:', round(cross_val_score(model, X_train, y_train, cv=kfolds, n_jobs=1, scoring = 'accuracy').mean(),2))"
   ]
  },
  {
   "cell_type": "code",
   "execution_count": 47,
   "metadata": {},
   "outputs": [
    {
     "name": "stdout",
     "output_type": "stream",
     "text": [
      "No Skill: ROC AUC=0.500\n",
      "Random Forest: ROC AUC=0.789\n"
     ]
    },
    {
     "data": {
      "image/png": "[encoded data removed]",
      "text/plain": [
       "<Figure size 432x288 with 1 Axes>"
      ]
     },
     "metadata": {
      "needs_background": "light"
     },
     "output_type": "display_data"
    }
   ],
   "source": [
    "# predict probabilities\n",
    "xgb_probs = model.predict_proba(X_test)\n",
    "xgb_probs = xgb_probs[:, 1] #probabilities for the positive outcome only\n",
    "\n",
    "# calculate scores\n",
    "xgb_auc = roc_auc_score(y_test, xgb_probs)\n",
    "print('No Skill: ROC AUC=%.3f' % (ns_auc))\n",
    "print('Random Forest: ROC AUC=%.3f' % (xgb_auc))\n",
    "\n",
    "# calculate roc curves\n",
    "xgb_fpr, xgb_tpr, _ = roc_curve(y_test, rf_probs)\n",
    "\n",
    "# plot the roc curve for the model\n",
    "plt.plot(ns_fpr, ns_tpr, linestyle='--', label='No Skill')\n",
    "plt.plot(xgb_fpr, xgb_tpr, marker='.', label='XGBoost')\n",
    "plt.xlabel('False Positive Rate')\n",
    "plt.ylabel('True Positive Rate')\n",
    "plt.legend()\n",
    "\n",
    "plt.savefig('image/_7_base-xgb.png',bbox_inches = 'tight')\n",
    "plt.show()"
   ]
  },
  {
   "cell_type": "markdown",
   "metadata": {},
   "source": [
    "### XG Boost\n",
    "\n",
    "xgb = XGBClassifier(verbosity = 0) # verbosity = 0 : to hide warnings\n",
    "\n",
    "params = {\n",
    "    'max_depth': [6, 9, 11, 13, 16, 19, 22], \n",
    "    'n_estimators': [100],\n",
    "    'learning_rate': [0.01, 0.05, 0.1]\n",
    "}\n",
    "\n",
    "grid_xgb = GridSearchCV(xgb, param_grid=params, cv = kfolds)\n",
    "grid_xgb.fit(X_train, y_train)\n",
    "\n",
    "print(grid_xgb.best_score_)\n",
    "print(grid_xgb.best_params_)"
   ]
  },
  {
   "cell_type": "markdown",
   "metadata": {},
   "source": [
    "### 5-5. Comparing Models"
   ]
  },
  {
   "cell_type": "code",
   "execution_count": 48,
   "metadata": {},
   "outputs": [
    {
     "data": {
      "image/png": "[encoded data removed]",
      "text/plain": [
       "<Figure size 432x288 with 1 Axes>"
      ]
     },
     "metadata": {
      "needs_background": "light"
     },
     "output_type": "display_data"
    }
   ],
   "source": [
    "plt.plot(ns_fpr, ns_tpr, linestyle='--', label='No Skill',color='red')\n",
    "plt.plot(lr_fpr, lr_tpr, label='Logistic Regression', color='blue',alpha=0.5)\n",
    "plt.plot(rf_fpr, rf_tpr, marker='.', label='Random Forest',color='orange',alpha=0.5)\n",
    "plt.plot(xgb_fpr, xgb_tpr, label='XGBoost', color='green')\n",
    "plt.xlabel('False Positive Rate')\n",
    "plt.ylabel('True Positive Rate')\n",
    "plt.legend()\n",
    "plt.savefig('image/_8_base-comparison.png',bbox_inches = 'tight')\n",
    "plt.show()"
   ]
  },
  {
   "cell_type": "code",
   "execution_count": 49,
   "metadata": {},
   "outputs": [],
   "source": [
    "results = results.set_index('Model')"
   ]
  },
  {
   "cell_type": "markdown",
   "metadata": {},
   "source": [
    "## 6. Over sampling using SMOTE\n",
    "- Synthetic Minority Oversampling Technique (SMOTE) algorithm \n",
    "    - Creates synthetic samples from the minor class"
   ]
  },
  {
   "cell_type": "code",
   "execution_count": 50,
   "metadata": {},
   "outputs": [
    {
     "data": {
      "text/plain": [
       "0    36548\n",
       "1     4640\n",
       "Name: y, dtype: int64"
      ]
     },
     "execution_count": 50,
     "metadata": {},
     "output_type": "execute_result"
    }
   ],
   "source": [
    "df['y'].value_counts()"
   ]
  },
  {
   "cell_type": "code",
   "execution_count": 51,
   "metadata": {
    "scrolled": false
   },
   "outputs": [
    {
     "name": "stdout",
     "output_type": "stream",
     "text": [
      "(51174, 40) (51174,)\n",
      "51174 51174\n",
      "25587 25587\n"
     ]
    }
   ],
   "source": [
    "from imblearn.over_sampling import SMOTE\n",
    "\n",
    "smote = SMOTE(random_state = seed)\n",
    "X_smote,y_smote = smote.fit_resample(X_train,y_train)\n",
    "\n",
    "# length of oversampled data\n",
    "print(X_smote.shape,y_smote.shape)\n",
    "print(len(X_smote),len(y_smote))\n",
    "print(len(y_smote[y_smote==0]),len(y_smote[y_smote ==1]))"
   ]
  },
  {
   "cell_type": "markdown",
   "metadata": {},
   "source": [
    "Now, the target, y, is blanced."
   ]
  },
  {
   "cell_type": "code",
   "execution_count": 52,
   "metadata": {},
   "outputs": [],
   "source": [
    "X_train, X_test, y_train, y_test = train_test_split(X_smote, y_smote, test_size = 0.3 ,random_state = seed)"
   ]
  },
  {
   "cell_type": "markdown",
   "metadata": {},
   "source": [
    "### 6-1) SMOTE and Logistic Regression"
   ]
  },
  {
   "cell_type": "code",
   "execution_count": 53,
   "metadata": {},
   "outputs": [],
   "source": [
    "# scale the data\n",
    "scaler = MinMaxScaler() #since the data is not normally distributed (less influenced by outliers)\n",
    "X_train_s = scaler.fit_transform(X_train)\n",
    "X_test_s = scaler.transform(X_test)"
   ]
  },
  {
   "cell_type": "code",
   "execution_count": 74,
   "metadata": {},
   "outputs": [],
   "source": [
    "model = LogisticRegression(random_state=seed)\n",
    "model.fit(X_train_s,y_train)\n",
    "yhat=model.predict(X_test_s)"
   ]
  },
  {
   "cell_type": "code",
   "execution_count": 75,
   "metadata": {},
   "outputs": [],
   "source": [
    "results = results.append(Evaluationmatrix_dict(y_test,yhat,name=\"LR_smote\"),ignore_index = True)"
   ]
  },
  {
   "cell_type": "code",
   "execution_count": 76,
   "metadata": {},
   "outputs": [
    {
     "name": "stdout",
     "output_type": "stream",
     "text": [
      "[[6875  779]\n",
      " [1125 6574]]\n",
      "Accuracy Score: 0.88\n",
      "Precision Score: 0.89\n",
      "Recall Score: 0.85\n"
     ]
    }
   ],
   "source": [
    "print(confusion_matrix(y_test,yhat))\n",
    "print('Accuracy Score:', round(accuracy_score(y_test,yhat),2))\n",
    "print('Precision Score:', round(precision_score(y_test,yhat),2))\n",
    "print('Recall Score:', round(recall_score(y_test,yhat),2))\n",
    "#print('CV Score:', round(cross_val_score(model, X_train_s, y_train, cv=kfolds, n_jobs=1, scoring = 'accuracy').mean(),2))"
   ]
  },
  {
   "cell_type": "code",
   "execution_count": 77,
   "metadata": {},
   "outputs": [
    {
     "name": "stdout",
     "output_type": "stream",
     "text": [
      "No Skill: ROC AUC=0.500\n",
      "Logistic: ROC AUC=0.938\n"
     ]
    },
    {
     "data": {
      "image/png": "[encoded data removed]",
      "text/plain": [
       "<Figure size 432x288 with 1 Axes>"
      ]
     },
     "metadata": {
      "needs_background": "light"
     },
     "output_type": "display_data"
    }
   ],
   "source": [
    "# no skill prediction (majority class)\n",
    "ns_probs = [0 for _ in range(len(y_test))]\n",
    "\n",
    "# predict probabilities\n",
    "lr_probs = model.predict_proba(X_test_s)\n",
    "lr_probs = lr_probs[:, 1] #probabilities for the positive outcome only\n",
    "\n",
    "# calculate scores\n",
    "ns_auc = roc_auc_score(y_test, ns_probs)\n",
    "lr_auc = roc_auc_score(y_test, lr_probs)\n",
    "print('No Skill: ROC AUC=%.3f' % (ns_auc))\n",
    "print('Logistic: ROC AUC=%.3f' % (lr_auc))\n",
    "\n",
    "# calculate roc curves\n",
    "ns_fpr, ns_tpr, _ = roc_curve(y_test, ns_probs)\n",
    "lr_fpr, lr_tpr, _ = roc_curve(y_test, lr_probs)\n",
    "\n",
    "# plot the roc curve for the model\n",
    "plt.plot(ns_fpr, ns_tpr, linestyle='--', label='No Skill')\n",
    "plt.plot(lr_fpr, lr_tpr, marker='.', label='Logistic')\n",
    "plt.xlabel('False Positive Rate')\n",
    "plt.ylabel('True Positive Rate')\n",
    "plt.legend()\n",
    "plt.savefig('image/_9_SMoTE-LR.png',bbox_inches = 'tight')\n",
    "plt.show()"
   ]
  },
  {
   "cell_type": "code",
   "execution_count": 78,
   "metadata": {},
   "outputs": [
    {
     "data": {
      "image/png": "[encoded data removed]",
      "text/plain": [
       "<Figure size 432x288 with 1 Axes>"
      ]
     },
     "metadata": {
      "needs_background": "light"
     },
     "output_type": "display_data"
    }
   ],
   "source": [
    "coefs = np.abs(model.coef_[0])\n",
    "\n",
    "indices = np.argsort(coefs)[::-1]\n",
    "plt.figure()\n",
    "#plt.title(\"Feature importances - Logistic Regression\")\n",
    "plt.barh(range(10), coefs[indices[:10]],\n",
    "       color=\"#4169e1\", align=\"center\")\n",
    "plt.yticks(range(10), X.columns[indices[:10]], ha='right')\n",
    "plt.subplots_adjust(bottom=0.3)\n",
    "plt.gca().invert_yaxis()\n",
    "plt.savefig('image/_10_SMoTE-LR-FI.png',bbox_inches = 'tight')"
   ]
  },
  {
   "cell_type": "code",
   "execution_count": 79,
   "metadata": {},
   "outputs": [
    {
     "data": {
      "text/plain": [
       "array([-6.57175275, -5.63785202, -4.87986663,  3.66534845, -3.04236988,\n",
       "       -2.86693292, -2.68450961, -2.65308567, -2.54487433,  2.27611915,\n",
       "       -2.18703726, -2.15948357,  2.13283564, -1.91440463, -1.87867073,\n",
       "       -1.85654084, -1.83848463, -1.79849339, -1.76582288, -1.69083362,\n",
       "       -1.64809754, -1.63065703, -1.60449482, -1.5098431 , -1.47190271,\n",
       "       -1.45009487, -1.42318503, -1.40435515, -1.22582157, -1.1922584 ,\n",
       "        1.07387816, -1.03223588, -1.00431599, -0.91207658, -0.88369094,\n",
       "       -0.86540651, -0.79922869, -0.75988322,  0.70585867, -0.67758477])"
      ]
     },
     "execution_count": 79,
     "metadata": {},
     "output_type": "execute_result"
    }
   ],
   "source": [
    "model.coef_[0,indices]"
   ]
  },
  {
   "cell_type": "code",
   "execution_count": 72,
   "metadata": {},
   "outputs": [
    {
     "data": {
      "text/plain": [
       "array([6.57175275, 5.63785202, 4.87986663, 3.66534845, 3.04236988,\n",
       "       2.86693292, 2.68450961, 2.65308567, 2.54487433, 2.27611915])"
      ]
     },
     "execution_count": 72,
     "metadata": {},
     "output_type": "execute_result"
    }
   ],
   "source": [
    "coefs[indices[:10]]"
   ]
  },
  {
   "cell_type": "markdown",
   "metadata": {},
   "source": [
    "### 6-2) SMOTE and Random Forest Classifier"
   ]
  },
  {
   "cell_type": "code",
   "execution_count": 59,
   "metadata": {},
   "outputs": [],
   "source": [
    "model = RandomForestClassifier(n_estimators = 10, max_depth=25, criterion = \"gini\", min_samples_split=10, random_state=seed)\n",
    "model.fit(X_train, y_train)\n",
    "yhat=model.predict(X_test)"
   ]
  },
  {
   "cell_type": "code",
   "execution_count": 60,
   "metadata": {},
   "outputs": [],
   "source": [
    "results = results.append(Evaluationmatrix_dict(y_test,yhat,name=\"RF_smote\"),ignore_index = True)"
   ]
  },
  {
   "cell_type": "code",
   "execution_count": 61,
   "metadata": {},
   "outputs": [
    {
     "name": "stdout",
     "output_type": "stream",
     "text": [
      "[[7118  536]\n",
      " [ 747 6952]]\n",
      "Accuracy Score: 0.92\n",
      "Precision Score: 0.93\n",
      "Recall Score: 0.9\n"
     ]
    }
   ],
   "source": [
    "print(confusion_matrix(y_test,yhat))\n",
    "print('Accuracy Score:', round(accuracy_score(y_test,yhat),2))\n",
    "print('Precision Score:', round(precision_score(y_test,yhat),2))\n",
    "print('Recall Score:', round(recall_score(y_test,yhat),2))\n",
    "#print('CV Score:', round(cross_val_score(model, X_train, y_train, cv=kfolds, n_jobs=1, scoring = 'accuracy').mean(),2))"
   ]
  },
  {
   "cell_type": "code",
   "execution_count": 62,
   "metadata": {},
   "outputs": [
    {
     "name": "stdout",
     "output_type": "stream",
     "text": [
      "No Skill: ROC AUC=0.500\n",
      "Random Forest: ROC AUC=0.969\n"
     ]
    },
    {
     "data": {
      "image/png": "[encoded data removed]",
      "text/plain": [
       "<Figure size 432x288 with 1 Axes>"
      ]
     },
     "metadata": {
      "needs_background": "light"
     },
     "output_type": "display_data"
    }
   ],
   "source": [
    "# predict probabilities\n",
    "rf_probs = model.predict_proba(X_test)\n",
    "rf_probs = rf_probs[:, 1] #probabilities for the positive outcome only\n",
    "\n",
    "# calculate scores\n",
    "rf_auc = roc_auc_score(y_test, rf_probs)\n",
    "print('No Skill: ROC AUC=%.3f' % (ns_auc))\n",
    "print('Random Forest: ROC AUC=%.3f' % (rf_auc))\n",
    "\n",
    "# calculate roc curves\n",
    "rf_fpr, rf_tpr, _ = roc_curve(y_test, rf_probs)\n",
    "\n",
    "# plot the roc curve for the model\n",
    "plt.plot(ns_fpr, ns_tpr, linestyle='--', label='No Skill')\n",
    "plt.plot(rf_fpr, rf_tpr, marker='.', label='Random Forest')\n",
    "plt.xlabel('False Positive Rate')\n",
    "plt.ylabel('True Positive Rate')\n",
    "plt.legend()\n",
    "\n",
    "plt.savefig('image/_11_SMOTE-RF.png',bbox_inches = 'tight')\n",
    "plt.show()"
   ]
  },
  {
   "cell_type": "code",
   "execution_count": 63,
   "metadata": {},
   "outputs": [
    {
     "data": {
      "image/png": "[encoded data removed]",
      "text/plain": [
       "<Figure size 720x432 with 1 Axes>"
      ]
     },
     "metadata": {
      "needs_background": "light"
     },
     "output_type": "display_data"
    }
   ],
   "source": [
    "feature_names = X_train.columns\n",
    "feature_imports = model.feature_importances_\n",
    "most_imp_features = pd.DataFrame([f for f in zip(feature_names,feature_imports)], columns=[\"Feature\", \"Importance\"]).nlargest(10, \"Importance\")\n",
    "most_imp_features.sort_values(by=\"Importance\", inplace=True)\n",
    "plt.figure(figsize=(10,6))\n",
    "plt.barh(range(len(most_imp_features)), most_imp_features.Importance, align='center', color=\"#4169e1\")\n",
    "plt.yticks(range(len(most_imp_features)), most_imp_features.Feature, fontsize=14)\n",
    "plt.xlabel('Importance')\n",
    "#plt.title('Most important features - Random Forest ')\n",
    "plt.savefig('image/_12_SMOTE-RF-FI.png',bbox_inches = 'tight')\n",
    "plt.show()"
   ]
  },
  {
   "cell_type": "markdown",
   "metadata": {},
   "source": [
    "### 6-3) SMOTE and XGBoost"
   ]
  },
  {
   "cell_type": "code",
   "execution_count": 64,
   "metadata": {},
   "outputs": [],
   "source": [
    "model = XGBClassifier()\n",
    "model.fit(X_train, y_train)\n",
    "yhat = model.predict(X_test)"
   ]
  },
  {
   "cell_type": "code",
   "execution_count": 65,
   "metadata": {},
   "outputs": [],
   "source": [
    "results = results.append(Evaluationmatrix_dict(y_test,yhat,name=\"XGB_smote\"),ignore_index = True)"
   ]
  },
  {
   "cell_type": "code",
   "execution_count": 66,
   "metadata": {},
   "outputs": [
    {
     "name": "stdout",
     "output_type": "stream",
     "text": [
      "[[7232  422]\n",
      " [ 685 7014]]\n",
      "Accuracy Score: 0.93\n",
      "Precision Score: 0.94\n",
      "Recall Score: 0.91\n"
     ]
    }
   ],
   "source": [
    "print(confusion_matrix(y_test,yhat))\n",
    "print('Accuracy Score:', round(accuracy_score(y_test,yhat),2))\n",
    "print('Precision Score:', round(precision_score(y_test,yhat),2))\n",
    "print('Recall Score:', round(recall_score(y_test,yhat),2))\n",
    "#print('CV Score:', round(cross_val_score(model, X_train, y_train, cv=kfolds, n_jobs=1, scoring = 'accuracy').mean(),2))"
   ]
  },
  {
   "cell_type": "code",
   "execution_count": 67,
   "metadata": {},
   "outputs": [
    {
     "name": "stdout",
     "output_type": "stream",
     "text": [
      "No Skill: ROC AUC=0.500\n",
      "Random Forest: ROC AUC=0.971\n"
     ]
    },
    {
     "data": {
      "image/png": "[encoded data removed]",
      "text/plain": [
       "<Figure size 432x288 with 1 Axes>"
      ]
     },
     "metadata": {
      "needs_background": "light"
     },
     "output_type": "display_data"
    }
   ],
   "source": [
    "# predict probabilities\n",
    "xgb_probs = model.predict_proba(X_test)\n",
    "xgb_probs = xgb_probs[:, 1] #probabilities for the positive outcome only\n",
    "\n",
    "# calculate scores\n",
    "xgb_auc = roc_auc_score(y_test, xgb_probs)\n",
    "print('No Skill: ROC AUC=%.3f' % (ns_auc))\n",
    "print('Random Forest: ROC AUC=%.3f' % (xgb_auc))\n",
    "\n",
    "# calculate roc curves\n",
    "xgb_fpr, xgb_tpr, _ = roc_curve(y_test, xgb_probs)\n",
    "\n",
    "# plot the roc curve for the model\n",
    "plt.plot(ns_fpr, ns_tpr, linestyle='--', label='No Skill')\n",
    "plt.plot(xgb_fpr, xgb_tpr, marker='.', label='XGBoost')\n",
    "plt.xlabel('False Positive Rate')\n",
    "plt.ylabel('True Positive Rate')\n",
    "plt.legend()\n",
    "\n",
    "plt.savefig('image/_13_SMOTE-XGB-FI.png',bbox_inches = 'tight')\n",
    "plt.show()"
   ]
  },
  {
   "cell_type": "code",
   "execution_count": 68,
   "metadata": {},
   "outputs": [
    {
     "data": {
      "image/png": "[encoded data removed]",
      "text/plain": [
       "<Figure size 720x432 with 1 Axes>"
      ]
     },
     "metadata": {
      "needs_background": "light"
     },
     "output_type": "display_data"
    }
   ],
   "source": [
    "feature_names = X_train.columns\n",
    "feature_imports = model.feature_importances_\n",
    "most_imp_features = pd.DataFrame([f for f in zip(feature_names,feature_imports)], columns=[\"Feature\", \"Importance\"]).nlargest(10, \"Importance\")\n",
    "most_imp_features.sort_values(by=\"Importance\", inplace=True)\n",
    "plt.figure(figsize=(10,6))\n",
    "plt.barh(range(len(most_imp_features)), most_imp_features.Importance, align='center', color=\"#4169e1\")\n",
    "plt.yticks(range(len(most_imp_features)), most_imp_features.Feature, fontsize=14)\n",
    "plt.xlabel('Importance')\n",
    "#plt.title('Most important features - XGBoost')\n",
    "\n",
    "plt.savefig('image/_14_SMOTE-XGB-FI.png',bbox_inches = 'tight')\n",
    "plt.show()"
   ]
  },
  {
   "cell_type": "markdown",
   "metadata": {},
   "source": [
    "### 6-4) Comparing Models"
   ]
  },
  {
   "cell_type": "code",
   "execution_count": 69,
   "metadata": {},
   "outputs": [
    {
     "data": {
      "image/png": "[encoded data removed]",
      "text/plain": [
       "<Figure size 432x288 with 1 Axes>"
      ]
     },
     "metadata": {
      "needs_background": "light"
     },
     "output_type": "display_data"
    }
   ],
   "source": [
    "plt.plot(ns_fpr, ns_tpr, linestyle='--', label='No Skill', color='red')\n",
    "plt.plot(lr_fpr, lr_tpr, label='Logistic', color='blue')\n",
    "plt.plot(rf_fpr, rf_tpr, label='Random Forest',color='orange')\n",
    "plt.plot(xgb_fpr, xgb_tpr, label='XGBoost', color='green')\n",
    "plt.xlabel('False Positive Rate')\n",
    "plt.ylabel('True Positive Rate')\n",
    "plt.legend()\n",
    "plt.savefig('image/_15_ModelComparison.png',bbox_inches = 'tight')\n",
    "plt.show()"
   ]
  },
  {
   "cell_type": "code",
   "execution_count": 70,
   "metadata": {},
   "outputs": [],
   "source": [
    "results = results.set_index('Model')"
   ]
  },
  {
   "cell_type": "code",
   "execution_count": 71,
   "metadata": {},
   "outputs": [
    {
     "data": {
      "text/html": [
       "<div>\n",
       "<style scoped>\n",
       "    .dataframe tbody tr th:only-of-type {\n",
       "        vertical-align: middle;\n",
       "    }\n",
       "\n",
       "    .dataframe tbody tr th {\n",
       "        vertical-align: top;\n",
       "    }\n",
       "\n",
       "    .dataframe thead th {\n",
       "        text-align: right;\n",
       "    }\n",
       "</style>\n",
       "<table border=\"1\" class=\"dataframe\">\n",
       "  <thead>\n",
       "    <tr style=\"text-align: right;\">\n",
       "      <th></th>\n",
       "      <th>Accuracy Score</th>\n",
       "      <th>CV Score</th>\n",
       "      <th>F1 Score</th>\n",
       "      <th>Precision Score</th>\n",
       "      <th>ROC AUC</th>\n",
       "      <th>Recall Score</th>\n",
       "    </tr>\n",
       "    <tr>\n",
       "      <th>Model</th>\n",
       "      <th></th>\n",
       "      <th></th>\n",
       "      <th></th>\n",
       "      <th></th>\n",
       "      <th></th>\n",
       "      <th></th>\n",
       "    </tr>\n",
       "  </thead>\n",
       "  <tbody>\n",
       "    <tr>\n",
       "      <th>NaN</th>\n",
       "      <td>0.901</td>\n",
       "      <td>0.899</td>\n",
       "      <td>0.335</td>\n",
       "      <td>0.697</td>\n",
       "      <td>0.604</td>\n",
       "      <td>0.221</td>\n",
       "    </tr>\n",
       "    <tr>\n",
       "      <th>NaN</th>\n",
       "      <td>0.898</td>\n",
       "      <td>0.896</td>\n",
       "      <td>0.400</td>\n",
       "      <td>0.601</td>\n",
       "      <td>0.637</td>\n",
       "      <td>0.300</td>\n",
       "    </tr>\n",
       "    <tr>\n",
       "      <th>NaN</th>\n",
       "      <td>0.896</td>\n",
       "      <td>0.898</td>\n",
       "      <td>0.390</td>\n",
       "      <td>0.575</td>\n",
       "      <td>0.634</td>\n",
       "      <td>0.295</td>\n",
       "    </tr>\n",
       "    <tr>\n",
       "      <th>LR_smote</th>\n",
       "      <td>0.876</td>\n",
       "      <td>0.899</td>\n",
       "      <td>0.874</td>\n",
       "      <td>0.894</td>\n",
       "      <td>0.876</td>\n",
       "      <td>0.854</td>\n",
       "    </tr>\n",
       "    <tr>\n",
       "      <th>RF_smote</th>\n",
       "      <td>0.916</td>\n",
       "      <td>0.896</td>\n",
       "      <td>0.916</td>\n",
       "      <td>0.928</td>\n",
       "      <td>0.916</td>\n",
       "      <td>0.903</td>\n",
       "    </tr>\n",
       "    <tr>\n",
       "      <th>XGB_smote</th>\n",
       "      <td>0.928</td>\n",
       "      <td>0.898</td>\n",
       "      <td>0.927</td>\n",
       "      <td>0.943</td>\n",
       "      <td>0.928</td>\n",
       "      <td>0.911</td>\n",
       "    </tr>\n",
       "  </tbody>\n",
       "</table>\n",
       "</div>"
      ],
      "text/plain": [
       "           Accuracy Score  CV Score  F1 Score  Precision Score  ROC AUC  \\\n",
       "Model                                                                     \n",
       "NaN                 0.901     0.899     0.335            0.697    0.604   \n",
       "NaN                 0.898     0.896     0.400            0.601    0.637   \n",
       "NaN                 0.896     0.898     0.390            0.575    0.634   \n",
       "LR_smote            0.876     0.899     0.874            0.894    0.876   \n",
       "RF_smote            0.916     0.896     0.916            0.928    0.916   \n",
       "XGB_smote           0.928     0.898     0.927            0.943    0.928   \n",
       "\n",
       "           Recall Score  \n",
       "Model                    \n",
       "NaN               0.221  \n",
       "NaN               0.300  \n",
       "NaN               0.295  \n",
       "LR_smote          0.854  \n",
       "RF_smote          0.903  \n",
       "XGB_smote         0.911  "
      ]
     },
     "execution_count": 71,
     "metadata": {},
     "output_type": "execute_result"
    }
   ],
   "source": [
    "results"
   ]
  },
  {
   "cell_type": "markdown",
   "metadata": {},
   "source": [
    "weighted accuracy - \n",
    "probability threshold - dangerous\n",
    "roc curve\n",
    "lift \n",
    "choose the probability "
   ]
  },
  {
   "cell_type": "code",
   "execution_count": null,
   "metadata": {},
   "outputs": [],
   "source": []
  },
  {
   "cell_type": "code",
   "execution_count": null,
   "metadata": {},
   "outputs": [],
   "source": []
  }
 ],
 "metadata": {
  "kernelspec": {
   "display_name": "Python 3",
   "language": "python",
   "name": "python3"
  },
  "language_info": {
   "codemirror_mode": {
    "name": "ipython",
    "version": 3
   },
   "file_extension": ".py",
   "mimetype": "text/x-python",
   "name": "python",
   "nbconvert_exporter": "python",
   "pygments_lexer": "ipython3",
   "version": "3.8.3"
  }
 },
 "nbformat": 4,
 "nbformat_minor": 4
}
